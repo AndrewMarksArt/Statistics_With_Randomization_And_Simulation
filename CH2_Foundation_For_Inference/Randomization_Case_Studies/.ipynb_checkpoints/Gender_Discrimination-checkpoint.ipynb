{
 "cells": [
  {
   "cell_type": "code",
   "execution_count": 75,
   "metadata": {},
   "outputs": [],
   "source": [
    "import pandas as pd\n",
    "import numpy as np\n",
    "import matplotlib.pyplot as plt\n",
    "import seaborn as sns"
   ]
  },
  {
   "cell_type": "markdown",
   "metadata": {},
   "source": [
    "# Case Study: Gender Discrimination\n",
    "\n",
    "Looking at a study from the 1970's investigating gender discrimination and our research question is \"Are women discriminated against in promotion decisions made by male managers?\"\n",
    "\n",
    "### Varability in the data\n",
    "\n",
    "The participants in this study were 48 male bank supervisors attending a management institute at the University of North Carolina in 1972. They were given a personnel file to judge whether the person should be promoted to a branch manager position. The files were identical except for half indicated the candidate was male and the other half female. The files were randomly assigned to the subjects.\n",
    "\n",
    "For each supervisor, the gender and promotion decision of the candidate was recorded.\n",
    "* 58.3% of women (14 of 24) were promoted\n",
    "* 87.5% of men (21 of 24) were promoted\n",
    "\n",
    "Less women were promoted then men but does this difference provide *convincing evidence* that women were unfailry discriminated against?\n",
    "\n",
    "### The strength of evidence\n",
    "We might be tempted to immediately conclude that women were discriminated against?\n",
    "\n",
    "The large diference in promation rates suggests there might be discrimination against women, however, we cannot be sure if the observation difference represents discrimination or from random chance.\n",
    "\n",
    "**There is always some varability in data and we wouldn't expect the sample population to be exactly equal, even if there truly was no discrimination they might not be equal**\n",
    "\n",
    "### The difference in promotion rates\n",
    "* There were 7 fewer promotions of women\n",
    "* Difference in promotion rates (21/24 - 14/24) = 29.2%\n",
    "\n",
    "This observed difference is called the **point estimate** of the true effect, and while this is large the sample size for the study is small making it unclear if this difference is due to discrimination or random chance.\n",
    "\n",
    "### Hypothesis Testing\n",
    "A hypothesis test is a statistical technique used to evaluate competing claims using data. Often the null hypothesis takes the stance of no difference or no effect. If the null hypothesis and the data notably disagree, then we will reject the null hypothesis in favor of the alternative.\n",
    "\n",
    "1. We set our null hypothesis H0: The variables promotion and gender are independent, they have no relationship and the observed difference was due to chance.\n",
    "2. we set an alternative hypothesis Ha: The variables promotion and gender are not independent and the observed difference is due to discrimination.\n",
    "\n",
    "What does it mean if H0 is true? The banker made the decision to promote or not without considering the candidates gender. What does it mean if Ha is true? Gender was considered in the promotion decision and if this bias was against women we would expect to see less women get promoted. \n",
    "\n",
    "### Simulating the study\n",
    "The original study consited of 48 candidates, 24 men and 24 women, who were being considered for promotion. 13 managers decided not to promote leaving 35 candidate who were promoted. We will randomly pull 35 files from the pool of candidates to promote and examine the gender of the promoted candidates."
   ]
  },
  {
   "cell_type": "code",
   "execution_count": 64,
   "metadata": {},
   "outputs": [
    {
     "name": "stdout",
     "output_type": "stream",
     "text": [
      "19 Women were promoted, 79.0%\n",
      "16 Men were promoted, 67.0%\n",
      "\n",
      "The observed difference is -12.5%\n"
     ]
    }
   ],
   "source": [
    "# create a seed for the random number generator\n",
    "np.random.seed(42)\n",
    "\n",
    "# create n random numbers representing the promoted candidates\n",
    "n = 35\n",
    "candidates = np.random.rand(35)\n",
    "\n",
    "# Check to see if the candidate was male or female\n",
    "f = 0\n",
    "m = 0\n",
    "for x in candidates:\n",
    "    if x <= 0.5:\n",
    "        f += 1\n",
    "    else:\n",
    "        m += 1\n",
    "\n",
    "# print the number of women and men promoted\n",
    "print(f'{f} Women were promoted, {round(f/24, 2)*100}%')\n",
    "print(f'{m} Men were promoted, {round(m/24, 2)*100}%\\n')\n",
    "\n",
    "# calculate the observed difference\n",
    "diff = (m/24) - (f/24)\n",
    "\n",
    "# since we are test gender discrimination against women, \n",
    "# if negative more women than men promoted\n",
    "print(f'The observed difference is {diff*100}%')"
   ]
  },
  {
   "cell_type": "markdown",
   "metadata": {},
   "source": [
    "### Checking for independence\n",
    "\n",
    "It's nice to be able to simulate the experiment but doing it once isn't enought. Next we need to redo the experiment many, many times and keep track of the observed difference for each iteration. From there we can plot the observed differences and test our hypothesis."
   ]
  },
  {
   "cell_type": "code",
   "execution_count": 354,
   "metadata": {},
   "outputs": [],
   "source": [
    "def promotion_experiment(num_candidates, men, women, num_trials):\n",
    "    \"\"\"\n",
    "    Function to run our gender discrimination experiment many times.\n",
    "    \n",
    "    num_candidates = int, the number of men and women being considered for promotion\n",
    "    men = int, number of male candidates\n",
    "    women = int, number of female candidates\n",
    "    num_trials = int, number of experiments to run\n",
    "    \n",
    "    return: observed_differences, list of observed differences\n",
    "    \"\"\"\n",
    "    \n",
    "    observed_differences = []\n",
    "    \n",
    "    for i in range(num_trials):\n",
    "        candidates = np.random.rand(num_candidates)\n",
    "        f = 0\n",
    "        m = 0\n",
    "        \n",
    "        for candidate in candidates:\n",
    "            if candidate < 0.5:\n",
    "                f += 1\n",
    "            else:\n",
    "                m += 1\n",
    "        \n",
    "        dif = (m/men) - (f/women)\n",
    "        observed_differences.append(dif)\n",
    "        \n",
    "    return observed_differences\n",
    "\n",
    "def plot_experiment(observed_differences, test_difference):\n",
    "    \"\"\"\n",
    "    Plot the distribution of observed differences in promotion rates\n",
    "    \n",
    "    observed_differences: list of observed differences from n number of experiments\n",
    "    test_difference: float, the observed difference from the original experiment we are testing.\n",
    "    \n",
    "    return: none, show plot\n",
    "    \"\"\"\n",
    "    \n",
    "    plt.title(\"Distribution of Differences in Promotion Rates\")\n",
    "    plt.xlabel(\"Difference in Promotion Rates\")\n",
    "    \n",
    "    plt.axvline(x=test_difference, color='r')\n",
    "    sns.distplot(observed_differences, kde=False, bins=15)\n",
    "    plt.show();"
   ]
  },
  {
   "cell_type": "code",
   "execution_count": 355,
   "metadata": {},
   "outputs": [
    {
     "data": {
      "image/png": "[encoded data removed]",
      "text/plain": [
       "<Figure size 432x288 with 1 Axes>"
      ]
     },
     "metadata": {
      "needs_background": "light"
     },
     "output_type": "display_data"
    }
   ],
   "source": [
    "# run the experiment\n",
    "candidates = 35\n",
    "men, women = 24, 24\n",
    "n = 1000000\n",
    "\n",
    "test_results = promotion_experiment(candidates, men, women, n)\n",
    "\n",
    "# plot experiment results and compair to original observed differences\n",
    "original_dif = 0.292\n",
    "\n",
    "plot_experiment(test_results, original_dif)"
   ]
  },
  {
   "cell_type": "markdown",
   "metadata": {},
   "source": [
    "### So how many times in our experiment was the observed difference in the promotion rate equal to or larger than the difference in the original study?"
   ]
  },
  {
   "cell_type": "code",
   "execution_count": 356,
   "metadata": {},
   "outputs": [
    {
     "name": "stdout",
     "output_type": "stream",
     "text": [
      "There were 87982 times the observed difference was equal to or larger than the original difference\n"
     ]
    }
   ],
   "source": [
    "# get a count of the differences larger than the original difference\n",
    "x = sum(x > original_dif for x in test_results)\n",
    "print(f'There were {x} times the observed difference was equal to or larger than the original difference')"
   ]
  },
  {
   "cell_type": "code",
   "execution_count": 359,
   "metadata": {},
   "outputs": [
    {
     "name": "stdout",
     "output_type": "stream",
     "text": [
      "8.8% of the trials saw an observed difference at least the size of the original differnece\n"
     ]
    }
   ],
   "source": [
    "# get the percentage of trials where the observed difference was at least as large as the original difference\n",
    "per = (x / n) * 100\n",
    "print(f'{round(per,2)}% of the trials saw an observed difference at least the size of the original differnece')"
   ]
  },
  {
   "cell_type": "markdown",
   "metadata": {},
   "source": [
    "### So how often would we observe a difference in promotion rates based on the experiment we ran? Often, sometimes, rarely, or never?\n",
    "\n",
    "There are a few different ways to interperate these results, when conducting formal studies we reject skeptical positions if the data strongly conflict with that position. Here, while it is rare (about 8.8% of the time) that we would see an observed difference of 29.2% we don't have enough evidence to reject the null hypothesis here and should look at gathering more information."
   ]
  },
  {
   "cell_type": "code",
   "execution_count": null,
   "metadata": {},
   "outputs": [],
   "source": []
  },
  {
   "cell_type": "code",
   "execution_count": null,
   "metadata": {},
   "outputs": [],
   "source": []
  },
  {
   "cell_type": "code",
   "execution_count": null,
   "metadata": {},
   "outputs": [],
   "source": []
  },
  {
   "cell_type": "code",
   "execution_count": null,
   "metadata": {},
   "outputs": [],
   "source": []
  },
  {
   "cell_type": "code",
   "execution_count": null,
   "metadata": {},
   "outputs": [],
   "source": []
  }
 ],
 "metadata": {
  "kernelspec": {
   "display_name": "Python 3",
   "language": "python",
   "name": "python3"
  },
  "language_info": {
   "codemirror_mode": {
    "name": "ipython",
    "version": 3
   },
   "file_extension": ".py",
   "mimetype": "text/x-python",
   "name": "python",
   "nbconvert_exporter": "python",
   "pygments_lexer": "ipython3",
   "version": "3.7.6"
  }
 },
 "nbformat": 4,
 "nbformat_minor": 4
}
